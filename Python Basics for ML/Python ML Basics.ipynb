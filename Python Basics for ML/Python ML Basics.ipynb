{
  "nbformat": 4,
  "nbformat_minor": 0,
  "metadata": {
    "colab": {
      "name": "2B.ipynb",
      "version": "0.3.2",
      "provenance": [],
      "collapsed_sections": []
    },
    "kernelspec": {
      "name": "python3",
      "display_name": "Python 3"
    }
  },
  "cells": [
    {
      "metadata": {
        "id": "q0pTFA4BHoSN",
        "colab_type": "code",
        "colab": {
          "base_uri": "https://localhost:8080/",
          "height": 34
        },
        "outputId": "c089ba61-fa9e-4702-f0e2-4c394748df25"
      },
      "cell_type": "code",
      "source": [
        "def quicksort(arr):\n",
        "    if len(arr) <= 1:\n",
        "        return arr\n",
        "    pivotEle = arr[len(arr) // 2]\n",
        "    left = [x for x in arr if x < pivotEle]\n",
        "    mid = [x for x in arr if x == pivotEle]\n",
        "    right = [x for x in arr if x > pivotEle]\n",
        "    return quicksort(left) + mid + quicksort(right)\n",
        "\n",
        "print(quicksort([3,6,8,10,1,2,1]))\n"
      ],
      "execution_count": 2,
      "outputs": [
        {
          "output_type": "stream",
          "text": [
            "[1, 1, 2, 3, 6, 8, 10]\n"
          ],
          "name": "stdout"
        }
      ]
    },
    {
      "metadata": {
        "id": "jVmS22u6H1fO",
        "colab_type": "code",
        "colab": {
          "base_uri": "https://localhost:8080/",
          "height": 187
        },
        "outputId": "9b564c36-5789-49da-a056-7c3d496d0c67"
      },
      "cell_type": "code",
      "source": [
        "val = 3\n",
        "print(type(val)) # Prints \"<class 'int'>\"\n",
        "print(val)       # Prints \"3\"\n",
        "print(val + 1)   # Addition; prints \"4\"\n",
        "print(val - 1)   # Subtraction; prints \"2\"\n",
        "print(val * 2)   # Multiplication; prints \"6\"\n",
        "print(val ** 2)  # Exponentiation; prints \"9\"\n",
        "val += 1\n",
        "print(val)  # Prints \"4\"\n",
        "val *= 2\n",
        "print(val)  # Prints \"8\"\n",
        "t = 2.5\n",
        "print(type(t)) # Prints \"<class 'float'>\"\n",
        "print(t, t + 1, t * 2, t ** 2) # Prints \"2.5 3.5 5.0 6.25\""
      ],
      "execution_count": 3,
      "outputs": [
        {
          "output_type": "stream",
          "text": [
            "<class 'int'>\n",
            "3\n",
            "4\n",
            "2\n",
            "6\n",
            "9\n",
            "4\n",
            "8\n",
            "<class 'float'>\n",
            "2.5 3.5 5.0 6.25\n"
          ],
          "name": "stdout"
        }
      ]
    },
    {
      "metadata": {
        "id": "iqk0RXEnIHM2",
        "colab_type": "code",
        "colab": {
          "base_uri": "https://localhost:8080/",
          "height": 102
        },
        "outputId": "2e054694-7a9b-4a87-b04f-9a853d84c020"
      },
      "cell_type": "code",
      "source": [
        "boolTrue = True\n",
        "boolFalse = False\n",
        "print(type(boolTrue)) # Prints \"<class 'bool'>\"\n",
        "print(boolTrue and boolFalse) # Logical AND; prints \"False\"\n",
        "print(boolTrue or boolFalse)  # Logical OR; prints \"True\"\n",
        "print(not boolTrue)   # Logical NOT; prints \"False\"\n",
        "print(boolTrue != boolFalse)  # Logical XOR; prints \"True\""
      ],
      "execution_count": 4,
      "outputs": [
        {
          "output_type": "stream",
          "text": [
            "<class 'bool'>\n",
            "False\n",
            "True\n",
            "False\n",
            "True\n"
          ],
          "name": "stdout"
        }
      ]
    },
    {
      "metadata": {
        "id": "VDHwFYSwIhd2",
        "colab_type": "code",
        "colab": {
          "base_uri": "https://localhost:8080/",
          "height": 85
        },
        "outputId": "d4708d36-0953-4851-d1bd-143668c58c55"
      },
      "cell_type": "code",
      "source": [
        "hello1 = 'hello'    # String literals can use single quotes\n",
        "world1 = \"world\"    # or double quotes; it does not matter.\n",
        "print(hello1)       # Prints \"hello\"\n",
        "print(len(hello1))  # String length; prints \"5\"\n",
        "hw1 = hello1 + ' ' + world1  # String concatenation\n",
        "print(hw1)  # prints \"hello world\"\n",
        "hw11 = '%s %s %d' % (hello1, world1, 12)  # sprintf style string formatting\n",
        "print(hw11)  # prints \"hello world 12\""
      ],
      "execution_count": 6,
      "outputs": [
        {
          "output_type": "stream",
          "text": [
            "hello\n",
            "5\n",
            "hello world\n",
            "hello world 12\n"
          ],
          "name": "stdout"
        }
      ]
    },
    {
      "metadata": {
        "id": "lIx_rvKMIvc2",
        "colab_type": "code",
        "colab": {
          "base_uri": "https://localhost:8080/",
          "height": 119
        },
        "outputId": "2d4706ff-d5ec-4eaa-95e6-53746b610d60"
      },
      "cell_type": "code",
      "source": [
        "string = \"hello\"\n",
        "print(string.capitalize())  # Capitalize a string; prints \"Hello\"\n",
        "print(string.upper())       # Convert a string to uppercase; prints \"HELLO\"\n",
        "print(string.rjust(7))      # Right-justify a string, padding with spaces; prints \"  hello\"\n",
        "print(string.center(7))     # Center a string, padding with spaces; prints \" hello \"\n",
        "print(string.replace('l', '(ell)'))  # Replace all instances of one substring with another;\n",
        "                                # prints \"he(ell)(ell)o\"\n",
        "print('  world '.strip())  # Strip leading and trailing whitespace; prints \"world\""
      ],
      "execution_count": 7,
      "outputs": [
        {
          "output_type": "stream",
          "text": [
            "Hello\n",
            "HELLO\n",
            "  hello\n",
            " hello \n",
            "he(ell)(ell)o\n",
            "world\n"
          ],
          "name": "stdout"
        }
      ]
    },
    {
      "metadata": {
        "id": "es6LBpIVJANK",
        "colab_type": "code",
        "colab": {
          "base_uri": "https://localhost:8080/",
          "height": 102
        },
        "outputId": "bff98092-0499-4363-de21-af855d6c9693"
      },
      "cell_type": "code",
      "source": [
        "lis = [3, 1, 2]    # Create a list\n",
        "print(lis, lis[2])  # Prints \"[3, 1, 2] 2\"\n",
        "print(lis[-1])     # Negative indices count from the end of the list; prints \"2\"\n",
        "lis[2] = 'foo'     # Lists can contain elements of different types\n",
        "print(lis)         # Prints \"[3, 1, 'foo']\"\n",
        "lis.append('bar')  # Add a new element to the end of the list\n",
        "print(lis)         # Prints \"[3, 1, 'foo', 'bar']\"\n",
        "ele = lis.pop()      # Remove and return the last element of the list\n",
        "print(ele, lis)      # Prints \"bar [3, 1, 'foo']\""
      ],
      "execution_count": 8,
      "outputs": [
        {
          "output_type": "stream",
          "text": [
            "[3, 1, 2] 2\n",
            "2\n",
            "[3, 1, 'foo']\n",
            "[3, 1, 'foo', 'bar']\n",
            "bar [3, 1, 'foo']\n"
          ],
          "name": "stdout"
        }
      ]
    },
    {
      "metadata": {
        "id": "559tPn7GJOtH",
        "colab_type": "code",
        "colab": {
          "base_uri": "https://localhost:8080/",
          "height": 153
        },
        "outputId": "5ca6a7f5-6f03-4d37-f71c-3c6f22bd3619"
      },
      "cell_type": "code",
      "source": [
        "numbers = list(range(5))     # range is a built-in function that creates a list of integers\n",
        "print(numbers)               # Prints \"[0, 1, 2, 3, 4]\"\n",
        "print(numbers[2:4])          # Get a slice from index 2 to 4 (exclusive); prints \"[2, 3]\"\n",
        "print(numbers[2:])           # Get a slice from index 2 to the end; prints \"[2, 3, 4]\"\n",
        "print(numbers[:2])           # Get a slice from the start to index 2 (exclusive); prints \"[0, 1]\"\n",
        "print(numbers[:])            # Get a slice of the whole list; prints \"[0, 1, 2, 3, 4]\"\n",
        "print(numbers[:-1])          # Slice indices can be negative; prints \"[0, 1, 2, 3]\"\n",
        "print(numbers[-1:])          # Slice indices can be negative; pringts \"[4]\"\n",
        "numbers[2:4] = [8, 9]        # Assign a new sublist to a slice\n",
        "print(numbers)               # Prints \"[0, 1, 8, 9, 4]\""
      ],
      "execution_count": 10,
      "outputs": [
        {
          "output_type": "stream",
          "text": [
            "[0, 1, 2, 3, 4]\n",
            "[2, 3]\n",
            "[2, 3, 4]\n",
            "[0, 1]\n",
            "[0, 1, 2, 3, 4]\n",
            "[0, 1, 2, 3]\n",
            "[4]\n",
            "[0, 1, 8, 9, 4]\n"
          ],
          "name": "stdout"
        }
      ]
    },
    {
      "metadata": {
        "id": "4nrRBN7NJ0Qq",
        "colab_type": "code",
        "colab": {
          "base_uri": "https://localhost:8080/",
          "height": 68
        },
        "outputId": "bad65689-8ac1-4ff9-910b-a972df1675ce"
      },
      "cell_type": "code",
      "source": [
        "ani = ['cat', 'dog', 'monkey']\n",
        "for animal in ani:\n",
        "    print(animal)\n",
        "# Prints \"cat\", \"dog\", \"monkey\", each on its own line."
      ],
      "execution_count": 12,
      "outputs": [
        {
          "output_type": "stream",
          "text": [
            "cat\n",
            "dog\n",
            "monkey\n"
          ],
          "name": "stdout"
        }
      ]
    },
    {
      "metadata": {
        "id": "7WnzH2ZiKBis",
        "colab_type": "code",
        "colab": {
          "base_uri": "https://localhost:8080/",
          "height": 68
        },
        "outputId": "8aaff3ca-796a-4567-963a-a4f0efdc574e"
      },
      "cell_type": "code",
      "source": [
        "ani = ['cat', 'dog', 'monkey']\n",
        "for iden, animal in enumerate(ani):\n",
        "    print('#%d: %s' % (iden + 1, animal))\n",
        "# Prints \"#1: cat\", \"#2: dog\", \"#3: monkey\", each on its own line"
      ],
      "execution_count": 14,
      "outputs": [
        {
          "output_type": "stream",
          "text": [
            "#1: cat\n",
            "#2: dog\n",
            "#3: monkey\n"
          ],
          "name": "stdout"
        }
      ]
    },
    {
      "metadata": {
        "id": "lcmcOUFGKYul",
        "colab_type": "code",
        "colab": {
          "base_uri": "https://localhost:8080/",
          "height": 68
        },
        "outputId": "3eef9577-23b4-4667-bb7a-9cc113c4e09f"
      },
      "cell_type": "code",
      "source": [
        "#List comprehension\n",
        "\n",
        "num = [0, 1, 2, 3, 4]\n",
        "squares = []\n",
        "for x in num:\n",
        "    squares.append(x ** 2)\n",
        "print(squares)   # Prints [0, 1, 4, 9, 16]\n",
        "\n",
        "#\n",
        "squares = [x ** 2 for x in num]\n",
        "print(squares)   # Prints [0, 1, 4, 9, 16]\n",
        "\n",
        "#\n",
        "even_squares = [x ** 2 for x in num if x % 2 == 0]\n",
        "print(even_squares)  # Prints \"[0, 4, 16]\""
      ],
      "execution_count": 17,
      "outputs": [
        {
          "output_type": "stream",
          "text": [
            "[0, 1, 4, 9, 16]\n",
            "[0, 1, 4, 9, 16]\n",
            "[0, 4, 16]\n"
          ],
          "name": "stdout"
        }
      ]
    },
    {
      "metadata": {
        "id": "Q9izOd03Kibk",
        "colab_type": "code",
        "colab": {
          "base_uri": "https://localhost:8080/",
          "height": 119
        },
        "outputId": "96a61769-ddd9-418b-e213-71deaeea1282"
      },
      "cell_type": "code",
      "source": [
        "#Dictionaries\n",
        "\n",
        "d1 = {'cat': 'cute', 'dog': 'furry'}  # Create a new dictionary with some data\n",
        "print(d1['cat'])       # Get an entry from a dictionary; prints \"cute\"\n",
        "print('cat' in d1)     # Check if a dictionary has a given key; prints \"True\"\n",
        "d1['fish'] = 'wet'     # Set an entry in a dictionary\n",
        "print(d1['fish'])      # Prints \"wet\"\n",
        "# print(d['monkey'])  # KeyError: 'monkey' not a key of d\n",
        "print(d1.get('monkey', 'N/A'))  # Get an element with a default; prints \"N/A\"\n",
        "print(d1.get('fish', 'N/A'))    # Get an element with a default; prints \"wet\"\n",
        "del d1['fish']         # Remove an element from a dictionary\n",
        "print(d1.get('fish', 'N/A')) # \"fish\" is no longer a key; prints \"N/A\"\n"
      ],
      "execution_count": 25,
      "outputs": [
        {
          "output_type": "stream",
          "text": [
            "cute\n",
            "True\n",
            "wet\n",
            "N/A\n",
            "wet\n",
            "N/A\n"
          ],
          "name": "stdout"
        }
      ]
    },
    {
      "metadata": {
        "id": "Ov3mmlpNK_lh",
        "colab_type": "code",
        "colab": {
          "base_uri": "https://localhost:8080/",
          "height": 68
        },
        "outputId": "e8c44b9f-a4dd-4973-c552-c289b315bbee"
      },
      "cell_type": "code",
      "source": [
        "d1 = {'person': 2, 'cat': 4, 'spider': 8}\n",
        "for animal in d1:\n",
        "    legs = d1[animal]\n",
        "    print('A %s has %d legs' % (animal, legs))\n",
        "# Prints \"A person has 2 legs\", \"A cat has 4 legs\", \"A spider has 8 legs\""
      ],
      "execution_count": 24,
      "outputs": [
        {
          "output_type": "stream",
          "text": [
            "A person has 2 legs\n",
            "A cat has 4 legs\n",
            "A spider has 8 legs\n"
          ],
          "name": "stdout"
        }
      ]
    },
    {
      "metadata": {
        "id": "deICZS3MK9n3",
        "colab_type": "code",
        "colab": {
          "base_uri": "https://localhost:8080/",
          "height": 68
        },
        "outputId": "f7f6f0ab-dc25-4a30-f952-32c3814e6bed"
      },
      "cell_type": "code",
      "source": [
        "\n",
        "d1 = {'person': 2, 'cat': 4, 'spider': 8}\n",
        "for animal, legs in d1.items():\n",
        "    print('A %s has %d legs' % (animal, legs))\n",
        "# Prints \"A person has 2 legs\", \"A cat has 4 legs\", \"A spider has 8 legs\""
      ],
      "execution_count": 23,
      "outputs": [
        {
          "output_type": "stream",
          "text": [
            "A person has 2 legs\n",
            "A cat has 4 legs\n",
            "A spider has 8 legs\n"
          ],
          "name": "stdout"
        }
      ]
    },
    {
      "metadata": {
        "id": "Pie0Mpt2LRmL",
        "colab_type": "code",
        "colab": {
          "base_uri": "https://localhost:8080/",
          "height": 34
        },
        "outputId": "8fbc400b-e90f-4a73-c0b5-f12b87e71ee1"
      },
      "cell_type": "code",
      "source": [
        "#Dictionary Comprehension\n",
        "num = [0, 1, 2, 3, 4]\n",
        "even_num_to_square = {x: x ** 2 for x in num if x % 2 == 0}\n",
        "print(even_num_to_square)  # Prints \"{0: 0, 2: 4, 4: 16}\""
      ],
      "execution_count": 27,
      "outputs": [
        {
          "output_type": "stream",
          "text": [
            "{0: 0, 2: 4, 4: 16}\n"
          ],
          "name": "stdout"
        }
      ]
    },
    {
      "metadata": {
        "id": "1TQc_7ULLcZv",
        "colab_type": "code",
        "colab": {
          "base_uri": "https://localhost:8080/",
          "height": 119
        },
        "outputId": "d8a19b98-97fe-40ed-e229-533c5afc7201"
      },
      "cell_type": "code",
      "source": [
        "#Sets\n",
        "ani = {'cat', 'dog'}\n",
        "print('cat' in ani)   # Check if an element is in a set; prints \"True\"\n",
        "print('fish' in ani)  # prints \"False\"\n",
        "ani.add('fish')       # Add an element to a set\n",
        "print('fish' in ani)  # Prints \"True\"\n",
        "print(len(ani))       # Number of elements in a set; prints \"3\"\n",
        "ani.add('cat')        # Adding an element that is already in the set does nothing\n",
        "print(len(ani))       # Prints \"3\"\n",
        "ani.remove('cat')     # Remove an element from a set\n",
        "print(len(ani))       # Prints \"2\""
      ],
      "execution_count": 29,
      "outputs": [
        {
          "output_type": "stream",
          "text": [
            "True\n",
            "False\n",
            "True\n",
            "3\n",
            "3\n",
            "2\n"
          ],
          "name": "stdout"
        }
      ]
    },
    {
      "metadata": {
        "id": "6tY6HuWaLzqQ",
        "colab_type": "code",
        "colab": {
          "base_uri": "https://localhost:8080/",
          "height": 68
        },
        "outputId": "5c5c09e8-72eb-4f9e-b6d9-99e9600934d0"
      },
      "cell_type": "code",
      "source": [
        "animals = {'cat', 'dog', 'fish'}\n",
        "for idx, animal in enumerate(animals):\n",
        "    print('#%d: %s' % (idx + 1, animal))\n",
        "# Prints \"#1: fish\", \"#2: dog\", \"#3: cat\""
      ],
      "execution_count": 30,
      "outputs": [
        {
          "output_type": "stream",
          "text": [
            "#1: fish\n",
            "#2: cat\n",
            "#3: dog\n"
          ],
          "name": "stdout"
        }
      ]
    },
    {
      "metadata": {
        "id": "m4YSkUzkL3uN",
        "colab_type": "code",
        "colab": {
          "base_uri": "https://localhost:8080/",
          "height": 34
        },
        "outputId": "657bed13-3dbe-470c-a5b6-6efe3fa86b61"
      },
      "cell_type": "code",
      "source": [
        "from math import sqrt\n",
        "nums = {int(sqrt(x)) for x in range(30)}\n",
        "print(nums)  # Prints \"{0, 1, 2, 3, 4, 5}\""
      ],
      "execution_count": 31,
      "outputs": [
        {
          "output_type": "stream",
          "text": [
            "{0, 1, 2, 3, 4, 5}\n"
          ],
          "name": "stdout"
        }
      ]
    },
    {
      "metadata": {
        "id": "YXjtxc0EL44Q",
        "colab_type": "code",
        "colab": {
          "base_uri": "https://localhost:8080/",
          "height": 85
        },
        "outputId": "ef07fe68-77ff-4982-f30d-7b2040ddb578"
      },
      "cell_type": "code",
      "source": [
        "#Tuples\n",
        "det = {(x, x + 1): x for x in range(10)}  # Create a dictionary with tuple keys\n",
        "print(det)\n",
        "th = (5, 6)        # Create a tuple\n",
        "print(type(th))    # Prints \"<class 'tuple'>\"\n",
        "print(det[th])       # Prints \"5\"\n",
        "print(det[(1, 2)])  # Prints \"1\""
      ],
      "execution_count": 35,
      "outputs": [
        {
          "output_type": "stream",
          "text": [
            "{(0, 1): 0, (1, 2): 1, (2, 3): 2, (3, 4): 3, (4, 5): 4, (5, 6): 5, (6, 7): 6, (7, 8): 7, (8, 9): 8, (9, 10): 9}\n",
            "<class 'tuple'>\n",
            "5\n",
            "1\n"
          ],
          "name": "stdout"
        }
      ]
    },
    {
      "metadata": {
        "id": "9aWQ9TGzL-Ho",
        "colab_type": "code",
        "colab": {
          "base_uri": "https://localhost:8080/",
          "height": 68
        },
        "outputId": "7741966f-7e22-47ab-990b-34767e05156c"
      },
      "cell_type": "code",
      "source": [
        "#Functions\n",
        "\n",
        "def sign(val):\n",
        "    if val > 0:\n",
        "        return 'positive'\n",
        "    elif val < 0:\n",
        "        return 'negative'\n",
        "    else:\n",
        "        return 'zero'\n",
        "\n",
        "for val in [-1, 0, 1]:\n",
        "    print(sign(val))\n",
        "# Prints \"negative\", \"zero\", \"positive\""
      ],
      "execution_count": 37,
      "outputs": [
        {
          "output_type": "stream",
          "text": [
            "negative\n",
            "zero\n",
            "positive\n"
          ],
          "name": "stdout"
        }
      ]
    },
    {
      "metadata": {
        "id": "kN7FOhoHMjZx",
        "colab_type": "code",
        "colab": {
          "base_uri": "https://localhost:8080/",
          "height": 51
        },
        "outputId": "fef65f0a-13c9-44a4-87a7-364c7cabf5ce"
      },
      "cell_type": "code",
      "source": [
        "def sample(na, loud=False):\n",
        "    if loud:\n",
        "        print('HELLO, %s!' % na.upper())\n",
        "    else:\n",
        "        print('Hello, %s' % na)\n",
        "\n",
        "sample('Bob') # Prints \"Hello, Bob\"\n",
        "sample('Fred', loud=True)  # Prints \"HELLO, FRED!\""
      ],
      "execution_count": 39,
      "outputs": [
        {
          "output_type": "stream",
          "text": [
            "Hello, Bob\n",
            "HELLO, FRED!\n"
          ],
          "name": "stdout"
        }
      ]
    },
    {
      "metadata": {
        "id": "OEjL8BTwMugF",
        "colab_type": "code",
        "colab": {
          "base_uri": "https://localhost:8080/",
          "height": 51
        },
        "outputId": "b937ce37-4f5e-49cf-d78d-70d8baad5f5e"
      },
      "cell_type": "code",
      "source": [
        "#Classes\n",
        "\n",
        "class GreeterClass(object):\n",
        "\n",
        "    # Constructor\n",
        "    def __init__(self, name):\n",
        "        self.name = name  # Create an instance variable\n",
        "\n",
        "    # Instance method\n",
        "    def greetWithMessage(self, loud=False):\n",
        "        if loud:\n",
        "            print('HELLO, %s!' % self.name.upper())\n",
        "        else:\n",
        "            print('Hello, %s' % self.name)\n",
        "\n",
        "g = GreeterClass('Fred')  # Construct an instance of the Greeter class\n",
        "g.greetWithMessage()            # Call an instance method; prints \"Hello, Fred\"\n",
        "g.greetWithMessage(loud=True)   # Call an instance method; prints \"HELLO, FRED!\""
      ],
      "execution_count": 43,
      "outputs": [
        {
          "output_type": "stream",
          "text": [
            "Hello, Fred\n",
            "HELLO, FRED!\n"
          ],
          "name": "stdout"
        }
      ]
    },
    {
      "metadata": {
        "id": "DNbIf5CoNDwu",
        "colab_type": "code",
        "colab": {
          "base_uri": "https://localhost:8080/",
          "height": 119
        },
        "outputId": "34720ee9-1acb-46b7-a975-d4a1d89c69c5"
      },
      "cell_type": "code",
      "source": [
        "#Numpy\n",
        "\n",
        "import numpy as np\n",
        "\n",
        "a = np.array([1, 2, 3])   # Create a rank 1 array\n",
        "print(type(a))            # Prints \"<class 'numpy.ndarray'>\"\n",
        "print(a.shape)            # Prints \"(3,)\"\n",
        "print(a[0], a[1], a[2])   # Prints \"1 2 3\"\n",
        "a[0] = 5                  # Change an element of the array\n",
        "print(a)                  # Prints \"[5, 2, 3]\"\n",
        "\n",
        "b = np.array([[1,2,3],[4,5,6]])    # Create a rank 2 array\n",
        "print(b.shape)                     # Prints \"(2, 3)\"\n",
        "print(b[0, 0], b[0, 1], b[1, 0])   # Prints \"1 2 4\""
      ],
      "execution_count": 44,
      "outputs": [
        {
          "output_type": "stream",
          "text": [
            "<class 'numpy.ndarray'>\n",
            "(3,)\n",
            "1 2 3\n",
            "[5 2 3]\n",
            "(2, 3)\n",
            "1 2 4\n"
          ],
          "name": "stdout"
        }
      ]
    },
    {
      "metadata": {
        "id": "0W8FtFUpSzL8",
        "colab_type": "code",
        "colab": {
          "base_uri": "https://localhost:8080/",
          "height": 170
        },
        "outputId": "4b73b795-8974-4099-fc81-fab63f0cfddf"
      },
      "cell_type": "code",
      "source": [
        "val1 = np.zeros((2,2))   # Create an array of all zeros\n",
        "print(val1)              # Prints \"[[ 0.  0.]\n",
        "                      #          [ 0.  0.]]\"\n",
        "\n",
        "val2 = np.ones((1,2))    # Create an array of all ones\n",
        "print(val2)              # Prints \"[[ 1.  1.]]\"\n",
        "\n",
        "val3 = np.full((2,2), 7)  # Create a constant array\n",
        "print(val3)               # Prints \"[[ 7.  7.]\n",
        "                       #          [ 7.  7.]]\"\n",
        "\n",
        "val4 = np.eye(2)         # Create a 2x2 identity matrix\n",
        "print(val4)              # Prints \"[[ 1.  0.]\n",
        "                      #          [ 0.  1.]]\"\n",
        "\n",
        "val5 = np.random.random((2,2))  # Create an array filled with random values\n",
        "print(val5)                     # Might print \"[[ 0.91940167  0.08143941]\n",
        "                             #               [ 0.68744134  0.87236687]]\""
      ],
      "execution_count": 47,
      "outputs": [
        {
          "output_type": "stream",
          "text": [
            "[[0. 0.]\n",
            " [0. 0.]]\n",
            "[[1. 1.]]\n",
            "[[7 7]\n",
            " [7 7]]\n",
            "[[1. 0.]\n",
            " [0. 1.]]\n",
            "[[0.50606622 0.33902562]\n",
            " [0.04317927 0.25533509]]\n"
          ],
          "name": "stdout"
        }
      ]
    },
    {
      "metadata": {
        "id": "WIaMQcfzTIh2",
        "colab_type": "code",
        "colab": {
          "base_uri": "https://localhost:8080/",
          "height": 51
        },
        "outputId": "6f909b4b-d830-4b75-d834-f4a1b1c28866"
      },
      "cell_type": "code",
      "source": [
        "# Create the following rank 2 array with shape (3, 4)\n",
        "# [[ 1  2  3  4]\n",
        "#  [ 5  6  7  8]\n",
        "#  [ 9 10 11 12]]\n",
        "val1 = np.array([[1,2,3,4], [5,6,7,8], [9,10,11,12]])\n",
        "\n",
        "# Use slicing to pull out the subarray consisting of the first 2 rows\n",
        "# and columns 1 and 2; b is the following array of shape (2, 2):\n",
        "# [[2 3]\n",
        "#  [6 7]]\n",
        "val2 = val1[:2, 1:3]\n",
        "\n",
        "# A slice of an array is a view into the same data, so modifying it\n",
        "# will modify the original array.\n",
        "print(val1[0, 1])   # Prints \"2\"\n",
        "val2[0, 0] = 77     # b[0, 0] is the same piece of data as a[0, 1]\n",
        "print(val1[0, 1])   # Prints \"77\""
      ],
      "execution_count": 51,
      "outputs": [
        {
          "output_type": "stream",
          "text": [
            "2\n",
            "77\n"
          ],
          "name": "stdout"
        }
      ]
    },
    {
      "metadata": {
        "id": "hpmvWJknTuac",
        "colab_type": "code",
        "colab": {
          "base_uri": "https://localhost:8080/",
          "height": 170
        },
        "outputId": "877c5e51-4176-4e84-abc4-0bf736e07d58"
      },
      "cell_type": "code",
      "source": [
        "# Create the following rank 2 array with shape (3, 4)\n",
        "# [[ 1  2  3  4]\n",
        "#  [ 5  6  7  8]\n",
        "#  [ 9 10 11 12]]\n",
        "val = np.array([[1,2,3,4], [5,6,7,8], [9,10,11,12]])\n",
        "print(val)\n",
        "\n",
        "# Two ways of accessing the data in the middle row of the array.\n",
        "# Mixing integer indexing with slices yields an array of lower rank,\n",
        "# while using only slices yields an array of the same rank as the\n",
        "# original array:\n",
        "row_row1 = val[1, :]    # Rank 1 view of the second row of a\n",
        "row_row2 = val[1:2, :]  # Rank 2 view of the second row of a\n",
        "print(row_row1, row_row1.shape)  # Prints \"[5 6 7 8] (4,)\"\n",
        "print(row_row2, row_row2.shape)  # Prints \"[[5 6 7 8]] (1, 4)\"\n",
        "\n",
        "# We can make the same distinction when accessing columns of an array:\n",
        "col_row1 = val[:, 1]\n",
        "col_row2 = val[:, 1:2]\n",
        "print(col_row1, col_row1.shape)  # Prints \"[ 2  6 10] (3,)\"\n",
        "print(col_row2, col_row2.shape)  # Prints \"[[ 2]\n",
        "                             #          [ 6]\n",
        "                             #          [10]] (3, 1)\""
      ],
      "execution_count": 53,
      "outputs": [
        {
          "output_type": "stream",
          "text": [
            "[[ 1  2  3  4]\n",
            " [ 5  6  7  8]\n",
            " [ 9 10 11 12]]\n",
            "[5 6 7 8] (4,)\n",
            "[[5 6 7 8]] (1, 4)\n",
            "[ 2  6 10] (3,)\n",
            "[[ 2]\n",
            " [ 6]\n",
            " [10]] (3, 1)\n"
          ],
          "name": "stdout"
        }
      ]
    },
    {
      "metadata": {
        "id": "cPh-npt3UgBE",
        "colab_type": "code",
        "colab": {
          "base_uri": "https://localhost:8080/",
          "height": 136
        },
        "outputId": "3af10298-9665-4a3f-9ce2-993073fc2437"
      },
      "cell_type": "code",
      "source": [
        "val = np.array([[1,2], [3, 4], [5, 6]])\n",
        "\n",
        "print(val)\n",
        "\n",
        "# An example of integer array indexing.\n",
        "# The returned array will have shape (3,) and\n",
        "print(val[[0, 1, 2], [0, 1, 0]])  # Prints \"[1 4 5]\"\n",
        "\n",
        "# The above example of integer array indexing is equivalent to this:\n",
        "print(np.array([val[0, 0], val[1, 1], val[2, 0]]))  # Prints \"[1 4 5]\"\n",
        "\n",
        "# When using integer array indexing, you can reuse the same\n",
        "# element from the source array:\n",
        "print(val[[0, 0], [1, 1]])  # Prints \"[2 2]\"\n",
        "\n",
        "# Equivalent to the previous integer array indexing example\n",
        "print(np.array([val[0, 1], val[0, 1]]))  # Prints \"[2 2]\""
      ],
      "execution_count": 54,
      "outputs": [
        {
          "output_type": "stream",
          "text": [
            "[[1 2]\n",
            " [3 4]\n",
            " [5 6]]\n",
            "[1 4 5]\n",
            "[1 4 5]\n",
            "[2 2]\n",
            "[2 2]\n"
          ],
          "name": "stdout"
        }
      ]
    },
    {
      "metadata": {
        "id": "2OZNsnBkVSi8",
        "colab_type": "code",
        "colab": {
          "base_uri": "https://localhost:8080/",
          "height": 170
        },
        "outputId": "2e6e2bf1-79a8-4343-8472-47bd55cb48f2"
      },
      "cell_type": "code",
      "source": [
        "# Create a new array from which we will select elements\n",
        "val = np.array([[1,2,3], [4,5,6], [7,8,9], [10, 11, 12]])\n",
        "\n",
        "print(val)  # prints \"array([[ 1,  2,  3],\n",
        "          #                [ 4,  5,  6],\n",
        "          #                [ 7,  8,  9],\n",
        "          #                [10, 11, 12]])\"\n",
        "\n",
        "# Create an array of indices\n",
        "val1 = np.array([0, 2, 0, 1])\n",
        "\n",
        "# Select one element from each row of val using the indices in val1\n",
        "print(val[np.arange(4), val1])  # Prints \"[ 1  6  7 11]\"\n",
        "\n",
        "# Mutate one element from each row of val using the indices in val1\n",
        "val[np.arange(4), val1] += 10\n",
        "\n",
        "print(val)  # prints \"array([[11,  2,  3],\n",
        "          #                [ 4,  5, 16],\n",
        "          #                [17,  8,  9],\n",
        "          #                [10, 21, 12]])"
      ],
      "execution_count": 56,
      "outputs": [
        {
          "output_type": "stream",
          "text": [
            "[[ 1  2  3]\n",
            " [ 4  5  6]\n",
            " [ 7  8  9]\n",
            " [10 11 12]]\n",
            "[ 1  6  7 11]\n",
            "[[11  2  3]\n",
            " [ 4  5 16]\n",
            " [17  8  9]\n",
            " [10 21 12]]\n"
          ],
          "name": "stdout"
        }
      ]
    },
    {
      "metadata": {
        "id": "HOJj5MoqVkH8",
        "colab_type": "code",
        "colab": {
          "base_uri": "https://localhost:8080/",
          "height": 68
        },
        "outputId": "7579d401-8c4d-4fce-cee5-b6cad7a06994"
      },
      "cell_type": "code",
      "source": [
        "val = np.array([1, 2])   # Let numpy choose the datatype\n",
        "print(val.dtype)         # Prints \"int64\"\n",
        "\n",
        "val = np.array([1.0, 2.0])   # Let numpy choose the datatype\n",
        "print(val.dtype)             # Prints \"float64\"\n",
        "\n",
        "val = np.array([1, 2], dtype=np.int64)   # Force a particular datatype\n",
        "print(val.dtype)                         # Prints \"int64\""
      ],
      "execution_count": 57,
      "outputs": [
        {
          "output_type": "stream",
          "text": [
            "int64\n",
            "float64\n",
            "int64\n"
          ],
          "name": "stdout"
        }
      ]
    },
    {
      "metadata": {
        "id": "npehPYDTWcq_",
        "colab_type": "code",
        "colab": {
          "base_uri": "https://localhost:8080/",
          "height": 323
        },
        "outputId": "18de53e7-4426-44d3-eab6-04196d585ace"
      },
      "cell_type": "code",
      "source": [
        "val1 = np.array([[1,2],[3,4]], dtype=np.float64)\n",
        "val2 = np.array([[5,6],[7,8]], dtype=np.float64)\n",
        "\n",
        "# Elementwise sum; both produce the array\n",
        "# [[ 6.0  8.0]\n",
        "#  [10.0 12.0]]\n",
        "print(val1 + val2)\n",
        "print(np.add(val1, val2))\n",
        "\n",
        "# Elementwise difference; both produce the array\n",
        "# [[-4.0 -4.0]\n",
        "#  [-4.0 -4.0]]\n",
        "print(val1 - val2)\n",
        "print(np.subtract(val1, val2))\n",
        "\n",
        "# Elementwise product; both produce the array\n",
        "# [[ 5.0 12.0]\n",
        "#  [21.0 32.0]]\n",
        "print(val1 * val2)\n",
        "print(np.multiply(val1, val2))\n",
        "\n",
        "# Elementwise division; both produce the array\n",
        "# [[ 0.2         0.33333333]\n",
        "#  [ 0.42857143  0.5       ]]\n",
        "print(val1 / val2)\n",
        "print(np.divide(val1, val2))\n",
        "\n",
        "# Elementwise square root; produces the array\n",
        "# [[ 1.          1.41421356]\n",
        "#  [ 1.73205081  2.        ]]\n",
        "print(np.sqrt(val1))"
      ],
      "execution_count": 59,
      "outputs": [
        {
          "output_type": "stream",
          "text": [
            "[[ 6.  8.]\n",
            " [10. 12.]]\n",
            "[[ 6.  8.]\n",
            " [10. 12.]]\n",
            "[[-4. -4.]\n",
            " [-4. -4.]]\n",
            "[[-4. -4.]\n",
            " [-4. -4.]]\n",
            "[[ 5. 12.]\n",
            " [21. 32.]]\n",
            "[[ 5. 12.]\n",
            " [21. 32.]]\n",
            "[[0.2        0.33333333]\n",
            " [0.42857143 0.5       ]]\n",
            "[[0.2        0.33333333]\n",
            " [0.42857143 0.5       ]]\n",
            "[[1.         1.41421356]\n",
            " [1.73205081 2.        ]]\n"
          ],
          "name": "stdout"
        }
      ]
    },
    {
      "metadata": {
        "id": "t9JVHygRW0yY",
        "colab_type": "code",
        "colab": {
          "base_uri": "https://localhost:8080/",
          "height": 153
        },
        "outputId": "bce10bb7-22ad-4a2d-f885-8240c9737db6"
      },
      "cell_type": "code",
      "source": [
        "val1 = np.array([[1,2],[3,4]])\n",
        "val2 = np.array([[5,6],[7,8]])\n",
        "\n",
        "v = np.array([9,10])\n",
        "w = np.array([11, 12])\n",
        "\n",
        "# Inner product of vectors; both produce 219\n",
        "print(v.dot(w))\n",
        "print(np.dot(v, w))\n",
        "\n",
        "# Matrix / vector product; both produce the rank 1 array [29 67]\n",
        "print(val1.dot(v))\n",
        "print(np.dot(val1, v))\n",
        "\n",
        "# Matrix / matrix product; both produce the rank 2 array\n",
        "# [[19 22]\n",
        "#  [43 50]]\n",
        "print(val1.dot(val2))\n",
        "print(np.dot(val1, val2))"
      ],
      "execution_count": 60,
      "outputs": [
        {
          "output_type": "stream",
          "text": [
            "219\n",
            "219\n",
            "[29 67]\n",
            "[29 67]\n",
            "[[19 22]\n",
            " [43 50]]\n",
            "[[19 22]\n",
            " [43 50]]\n"
          ],
          "name": "stdout"
        }
      ]
    },
    {
      "metadata": {
        "id": "MXFb4IAjXKp1",
        "colab_type": "code",
        "colab": {
          "base_uri": "https://localhost:8080/",
          "height": 68
        },
        "outputId": "95065915-d2bc-4907-bea7-56b0d7f6fb93"
      },
      "cell_type": "code",
      "source": [
        "val = np.array([[1,2],[3,4]])\n",
        "\n",
        "print(np.sum(val))  # Compute sum of all elements; prints \"10\"\n",
        "print(np.sum(val, axis=0))  # Compute sum of each column; prints \"[4 6]\"\n",
        "print(np.sum(val, axis=1))  # Compute sum of each row; prints \"[3 7]\""
      ],
      "execution_count": 61,
      "outputs": [
        {
          "output_type": "stream",
          "text": [
            "10\n",
            "[4 6]\n",
            "[3 7]\n"
          ],
          "name": "stdout"
        }
      ]
    },
    {
      "metadata": {
        "id": "d6mL0MnCXVlm",
        "colab_type": "code",
        "colab": {
          "base_uri": "https://localhost:8080/",
          "height": 119
        },
        "outputId": "446be764-b088-4361-b71c-ad7512dcc37c"
      },
      "cell_type": "code",
      "source": [
        "val = np.array([[1,2], [3,4]])\n",
        "print(val)    # Prints \"[[1 2]\n",
        "            #          [3 4]]\"\n",
        "print(val.T)  # Prints \"[[1 3]\n",
        "            #          [2 4]]\"\n",
        "\n",
        "# Note that taking the transpose of a rank 1 array does nothing:\n",
        "w = np.array([1,2,3])\n",
        "print(w)    # Prints \"[1 2 3]\"\n",
        "print(w.T)  # Prints \"[1 2 3]\""
      ],
      "execution_count": 62,
      "outputs": [
        {
          "output_type": "stream",
          "text": [
            "[[1 2]\n",
            " [3 4]]\n",
            "[[1 3]\n",
            " [2 4]]\n",
            "[1 2 3]\n",
            "[1 2 3]\n"
          ],
          "name": "stdout"
        }
      ]
    },
    {
      "metadata": {
        "id": "sbLc8QqdXgO3",
        "colab_type": "code",
        "colab": {
          "base_uri": "https://localhost:8080/",
          "height": 85
        },
        "outputId": "cd537941-2bf6-4bd6-e17b-21283b123e0b"
      },
      "cell_type": "code",
      "source": [
        "# We will add the vector v to each row of the matrix x,\n",
        "# storing the result in the matrix y\n",
        "x = np.array([[1,2,3], [4,5,6], [7,8,9], [10, 11, 12]])\n",
        "v = np.array([1, 0, 1])\n",
        "y = np.empty_like(x)   # Create an empty matrix with the same shape as x\n",
        "\n",
        "# Add the vector v to each row of the matrix x with an explicit loop\n",
        "for i in range(4):\n",
        "    y[i, :] = x[i, :] + v\n",
        "\n",
        "# Now y is the following\n",
        "# [[ 2  2  4]\n",
        "#  [ 5  5  7]\n",
        "#  [ 8  8 10]\n",
        "#  [11 11 13]]\n",
        "print(y)"
      ],
      "execution_count": 63,
      "outputs": [
        {
          "output_type": "stream",
          "text": [
            "[[ 2  2  4]\n",
            " [ 5  5  7]\n",
            " [ 8  8 10]\n",
            " [11 11 13]]\n"
          ],
          "name": "stdout"
        }
      ]
    },
    {
      "metadata": {
        "id": "e4Z5P84-Xv7I",
        "colab_type": "code",
        "colab": {
          "base_uri": "https://localhost:8080/",
          "height": 153
        },
        "outputId": "61f6a668-fd8c-4eab-dee3-27070bbf58d2"
      },
      "cell_type": "code",
      "source": [
        "# We will add the vector x2 to each row of the matrix x1,\n",
        "# storing the result in the matrix y\n",
        "x1= np.array([[1,2,3], [4,5,6], [7,8,9], [10, 11, 12]])\n",
        "x2 = np.array([1, 0, 1])\n",
        "x3 = np.tile(x2, (4, 1))   # Stack 4 copies of x2 on top of each other\n",
        "print(x3)                 # Prints \"[[1 0 1]\n",
        "                          #          [1 0 1]\n",
        "                          #          [1 0 1]\n",
        "                          #          [1 0 1]]\"\n",
        "y = x2 + x3  # Add x and vv elementwise\n",
        "print(y)  # Prints \"[[ 2  2  4\n",
        "          #          [ 5  5  7]\n",
        "          #          [ 8  8 10]\n",
        "          #          [11 11 13]]\""
      ],
      "execution_count": 66,
      "outputs": [
        {
          "output_type": "stream",
          "text": [
            "[[1 0 1]\n",
            " [1 0 1]\n",
            " [1 0 1]\n",
            " [1 0 1]]\n",
            "[[2 0 2]\n",
            " [2 0 2]\n",
            " [2 0 2]\n",
            " [2 0 2]]\n"
          ],
          "name": "stdout"
        }
      ]
    },
    {
      "metadata": {
        "id": "TUcHnaBTYS0b",
        "colab_type": "code",
        "colab": {
          "base_uri": "https://localhost:8080/",
          "height": 85
        },
        "outputId": "d69bffa2-7b90-4330-aa8d-deaff7811912"
      },
      "cell_type": "code",
      "source": [
        "# We will add the vector v to each row of the matrix x,\n",
        "# storing the result in the matrix y\n",
        "x = np.array([[1,2,3], [4,5,6], [7,8,9], [10, 11, 12]])\n",
        "v = np.array([1, 0, 1])\n",
        "y = x + v  # Add v to each row of x using broadcasting\n",
        "print(y)  # Prints \"[[ 2  2  4]\n",
        "          #          [ 5  5  7]\n",
        "          #          [ 8  8 10]\n",
        "          #          [11 11 13]]\""
      ],
      "execution_count": 67,
      "outputs": [
        {
          "output_type": "stream",
          "text": [
            "[[ 2  2  4]\n",
            " [ 5  5  7]\n",
            " [ 8  8 10]\n",
            " [11 11 13]]\n"
          ],
          "name": "stdout"
        }
      ]
    },
    {
      "metadata": {
        "id": "8X-nysMQYjeo",
        "colab_type": "code",
        "colab": {
          "base_uri": "https://localhost:8080/",
          "height": 204
        },
        "outputId": "26e5b408-4407-44cf-a2b7-a8321905dd25"
      },
      "cell_type": "code",
      "source": [
        "# Compute outer product of vectors\n",
        "v = np.array([1,2,3])  # v has shape (3,)\n",
        "w = np.array([4,5])    # w has shape (2,)\n",
        "# To compute an outer product, we first reshape v to be a column\n",
        "# vector of shape (3, 1); we can then broadcast it against w to yield\n",
        "# an output of shape (3, 2), which is the outer product of v and w:\n",
        "# [[ 4  5]\n",
        "#  [ 8 10]\n",
        "#  [12 15]]\n",
        "print(np.reshape(v, (3, 1)) * w)\n",
        "\n",
        "# Add a vector to each row of a matrix\n",
        "x = np.array([[1,2,3], [4,5,6]])\n",
        "# x has shape (2, 3) and v has shape (3,) so they broadcast to (2, 3),\n",
        "# giving the following matrix:\n",
        "# [[2 4 6]\n",
        "#  [5 7 9]]\n",
        "print(x + v)\n",
        "\n",
        "# Add a vector to each column of a matrix\n",
        "# x has shape (2, 3) and w has shape (2,).\n",
        "# If we transpose x then it has shape (3, 2) and can be broadcast\n",
        "# against w to yield a result of shape (3, 2); transposing this result\n",
        "# yields the final result of shape (2, 3) which is the matrix x with\n",
        "# the vector w added to each column. Gives the following matrix:\n",
        "# [[ 5  6  7]\n",
        "#  [ 9 10 11]]\n",
        "print((x.T + w).T)\n",
        "# Another solution is to reshape w to be a column vector of shape (2, 1);\n",
        "# we can then broadcast it directly against x to produce the same\n",
        "# output.\n",
        "print(x + np.reshape(w, (2, 1)))\n",
        "\n",
        "# Multiply a matrix by a constant:\n",
        "# x has shape (2, 3). Numpy treats scalars as arrays of shape ();\n",
        "# these can be broadcast together to shape (2, 3), producing the\n",
        "# following array:\n",
        "# [[ 2  4  6]\n",
        "#  [ 8 10 12]]\n",
        "print(x * 2)"
      ],
      "execution_count": 68,
      "outputs": [
        {
          "output_type": "stream",
          "text": [
            "[[ 4  5]\n",
            " [ 8 10]\n",
            " [12 15]]\n",
            "[[2 4 6]\n",
            " [5 7 9]]\n",
            "[[ 5  6  7]\n",
            " [ 9 10 11]]\n",
            "[[ 5  6  7]\n",
            " [ 9 10 11]]\n",
            "[[ 2  4  6]\n",
            " [ 8 10 12]]\n"
          ],
          "name": "stdout"
        }
      ]
    },
    {
      "metadata": {
        "id": "nGS-SVG2YrBT",
        "colab_type": "code",
        "colab": {
          "base_uri": "https://localhost:8080/",
          "height": 122
        },
        "outputId": "a8a34112-5328-4c24-938c-77510806187e"
      },
      "cell_type": "code",
      "source": [
        "#SciPy\n",
        "from scipy.misc import imread, imsave, imresize\n",
        "import urllib\n",
        "\n",
        "# Read an JPEG image into a numpy array\n",
        "img1 = imread(urllib.request.urlopen('https://i2.wp.com/beebom.com/wp-content/uploads/2016/01/Reverse-Image-Search-Engines-Apps-And-Its-Uses-2016.jpg?resize=640%2C426'))\n",
        "print(img1.dtype, img1.shape)  # Prints \"uint8 (400, 248, 3)\"\n",
        "\n",
        "# We can tint the image by scaling each of the color channels\n",
        "# by a different scalar constant. The image has shape (400, 248, 3);\n",
        "# we multiply it by the array [1, 0.95, 0.9] of shape (3,);\n",
        "# numpy broadcasting means that this leaves the red channel unchanged,\n",
        "# and multiplies the green and blue channels by 0.95 and 0.9\n",
        "# respectively.\n",
        "img1_tinted = img1 * [1, 0.95, 0.9]\n",
        "\n",
        "# Resize the tinted image to be 300 by 300 pixels.\n",
        "img1_tinted = imresize(img1_tinted, (300, 300))\n",
        "\n",
        "# Write the tinted image back to disk\n",
        "imsave('cat_tinted.jpg', img1_tinted)\n",
        "\n",
        "#img = Image.open('File.jpg')\n",
        "#img.show()\n"
      ],
      "execution_count": 1,
      "outputs": [
        {
          "output_type": "stream",
          "text": [
            "uint8 (426, 640, 3)\n"
          ],
          "name": "stdout"
        },
        {
          "output_type": "stream",
          "text": [
            "/usr/local/lib/python3.6/dist-packages/scipy/misc/pilutil.py:482: FutureWarning: Conversion of the second argument of issubdtype from `int` to `np.signedinteger` is deprecated. In future, it will be treated as `np.int64 == np.dtype(int).type`.\n",
            "  if issubdtype(ts, int):\n",
            "/usr/local/lib/python3.6/dist-packages/scipy/misc/pilutil.py:485: FutureWarning: Conversion of the second argument of issubdtype from `float` to `np.floating` is deprecated. In future, it will be treated as `np.float64 == np.dtype(float).type`.\n",
            "  elif issubdtype(type(size), float):\n"
          ],
          "name": "stderr"
        }
      ]
    },
    {
      "metadata": {
        "id": "VOAn-GeDMG5S",
        "colab_type": "code",
        "colab": {
          "base_uri": "https://localhost:8080/",
          "height": 119
        },
        "outputId": "bff671ac-a9f1-4580-e59c-94ecc24aa51d"
      },
      "cell_type": "code",
      "source": [
        "import numpy as np\n",
        "from scipy.spatial.distance import pdist, squareform\n",
        "\n",
        "# Create the following array where each row is a point in 2D space:\n",
        "# [[0 1]\n",
        "#  [1 0]\n",
        "#  [2 0]]\n",
        "values = np.array([[0, 1], [1, 0], [2, 0]])\n",
        "print(values)\n",
        "\n",
        "# Compute the Euclidean distance between all rows of x.\n",
        "# d[i, j] is the Euclidean distance between x[i, :] and x[j, :],\n",
        "# and d is the following array:\n",
        "# [[ 0.          1.41421356  2.23606798]\n",
        "#  [ 1.41421356  0.          1.        ]\n",
        "#  [ 2.23606798  1.          0.        ]]\n",
        "distance = squareform(pdist(values, 'euclidean'))\n",
        "print(distance)"
      ],
      "execution_count": 4,
      "outputs": [
        {
          "output_type": "stream",
          "text": [
            "[[0 1]\n",
            " [1 0]\n",
            " [2 0]]\n",
            "[[0.         1.41421356 2.23606798]\n",
            " [1.41421356 0.         1.        ]\n",
            " [2.23606798 1.         0.        ]]\n"
          ],
          "name": "stdout"
        }
      ]
    },
    {
      "metadata": {
        "id": "cz9KKA8MMmWK",
        "colab_type": "code",
        "colab": {
          "base_uri": "https://localhost:8080/",
          "height": 721
        },
        "outputId": "a6b0761d-6cd9-434c-a240-4d3ef94405e1"
      },
      "cell_type": "code",
      "source": [
        "import matplotlib.pyplot as plt\n",
        "\n",
        "# Compute the x and y coordinates for points on a sine curve\n",
        "x_axis = np.arange(0, 3 * np.pi, 0.1)\n",
        "y_axis = np.sin(x_axis)\n",
        "print(x_axis)\n",
        "print(y_axis, np.pi*3)\n",
        "\n",
        "# Plot the points using matplotlib\n",
        "plt.plot(x_axis, y_axis)\n",
        "plt.show()  # You must call plt.show() to make graphics appear."
      ],
      "execution_count": 9,
      "outputs": [
        {
          "output_type": "stream",
          "text": [
            "[0.  0.1 0.2 0.3 0.4 0.5 0.6 0.7 0.8 0.9 1.  1.1 1.2 1.3 1.4 1.5 1.6 1.7\n",
            " 1.8 1.9 2.  2.1 2.2 2.3 2.4 2.5 2.6 2.7 2.8 2.9 3.  3.1 3.2 3.3 3.4 3.5\n",
            " 3.6 3.7 3.8 3.9 4.  4.1 4.2 4.3 4.4 4.5 4.6 4.7 4.8 4.9 5.  5.1 5.2 5.3\n",
            " 5.4 5.5 5.6 5.7 5.8 5.9 6.  6.1 6.2 6.3 6.4 6.5 6.6 6.7 6.8 6.9 7.  7.1\n",
            " 7.2 7.3 7.4 7.5 7.6 7.7 7.8 7.9 8.  8.1 8.2 8.3 8.4 8.5 8.6 8.7 8.8 8.9\n",
            " 9.  9.1 9.2 9.3 9.4]\n",
            "[ 0.          0.09983342  0.19866933  0.29552021  0.38941834  0.47942554\n",
            "  0.56464247  0.64421769  0.71735609  0.78332691  0.84147098  0.89120736\n",
            "  0.93203909  0.96355819  0.98544973  0.99749499  0.9995736   0.99166481\n",
            "  0.97384763  0.94630009  0.90929743  0.86320937  0.8084964   0.74570521\n",
            "  0.67546318  0.59847214  0.51550137  0.42737988  0.33498815  0.23924933\n",
            "  0.14112001  0.04158066 -0.05837414 -0.15774569 -0.2555411  -0.35078323\n",
            " -0.44252044 -0.52983614 -0.61185789 -0.68776616 -0.7568025  -0.81827711\n",
            " -0.87157577 -0.91616594 -0.95160207 -0.97753012 -0.993691   -0.99992326\n",
            " -0.99616461 -0.98245261 -0.95892427 -0.92581468 -0.88345466 -0.83226744\n",
            " -0.77276449 -0.70554033 -0.63126664 -0.55068554 -0.46460218 -0.37387666\n",
            " -0.2794155  -0.1821625  -0.0830894   0.0168139   0.1165492   0.21511999\n",
            "  0.31154136  0.40484992  0.49411335  0.57843976  0.6569866   0.72896904\n",
            "  0.79366786  0.85043662  0.8987081   0.93799998  0.96791967  0.98816823\n",
            "  0.99854335  0.99894134  0.98935825  0.96988981  0.94073056  0.90217183\n",
            "  0.85459891  0.79848711  0.7343971   0.66296923  0.58491719  0.50102086\n",
            "  0.41211849  0.31909836  0.22288991  0.12445442  0.02477543] 9.42477796076938\n"
          ],
          "name": "stdout"
        },
        {
          "output_type": "display_data",
          "data": {
            "image/png": "[encoded data removed]",
            "text/plain": [
              "<matplotlib.figure.Figure at 0x7f1e27c53940>"
            ]
          },
          "metadata": {
            "tags": []
          }
        }
      ]
    },
    {
      "metadata": {
        "id": "ND2Q6WAZNM9T",
        "colab_type": "code",
        "colab": {
          "base_uri": "https://localhost:8080/",
          "height": 376
        },
        "outputId": "4e92341f-5575-4d77-afed-20cfd3ec5201"
      },
      "cell_type": "code",
      "source": [
        "# Compute the x and y coordinates for points on sine and cosine curves\n",
        "x_axis = np.arange(0, 3 * np.pi, 0.1)\n",
        "y_sin = np.sin(x_axis)\n",
        "y_cos = np.cos(x_axis)\n",
        "\n",
        "# Plot the points using matplotlib\n",
        "plt.plot(x_axis, y_sin)\n",
        "plt.plot(x_axis, y_cos)\n",
        "plt.xlabel('x axis label')\n",
        "plt.ylabel('y axis label')\n",
        "plt.title('Sine and Cosine')\n",
        "plt.legend(['Sine', 'Cosine'])\n",
        "plt.show()"
      ],
      "execution_count": 12,
      "outputs": [
        {
          "output_type": "display_data",
          "data": {
            "image/png": "[encoded data removed]",
            "text/plain": [
              "<matplotlib.figure.Figure at 0x7f1e27b97ba8>"
            ]
          },
          "metadata": {
            "tags": []
          }
        }
      ]
    },
    {
      "metadata": {
        "id": "8MA8r3cjNlSI",
        "colab_type": "code",
        "colab": {
          "base_uri": "https://localhost:8080/",
          "height": 362
        },
        "outputId": "2dea0c72-0964-45f3-994d-94d7ef308c4e"
      },
      "cell_type": "code",
      "source": [
        "# Compute the x and y coordinates for points on sine and cosine curves\n",
        "x_axis = np.arange(0, 3 * np.pi, 0.1)\n",
        "y_sin = np.sin(x_axis)\n",
        "y_cos = np.cos(x_axis)\n",
        "y_tan = np.tan(x_axis)\n",
        "\n",
        "# Set up a subplot grid that has height 2 and width 1,\n",
        "# and set the first such subplot as active.\n",
        "plt.subplot(3, 1, 1)\n",
        "\n",
        "# Make the first plot\n",
        "plt.plot(x_axis, y_sin)\n",
        "plt.title('Sine')\n",
        "\n",
        "# Set the second subplot as active, and make the second plot.\n",
        "plt.subplot(3, 1, 2)\n",
        "plt.plot(x_axis, y_cos)\n",
        "plt.title('Cosine')\n",
        "\n",
        "# Set the third subplot as active and make the third plot.\n",
        "plt.subplot(3, 1, 3)\n",
        "plt.plot(x_axis, y_tan)\n",
        "plt.title('Tan')\n",
        "\n",
        "# Show the figure.\n",
        "plt.show()"
      ],
      "execution_count": 20,
      "outputs": [
        {
          "output_type": "display_data",
          "data": {
            "image/png": "[encoded data removed]",
            "text/plain": [
              "<matplotlib.figure.Figure at 0x7f1e2aaee0f0>"
            ]
          },
          "metadata": {
            "tags": []
          }
        }
      ]
    },
    {
      "metadata": {
        "id": "gJsbptVsPnKr",
        "colab_type": "code",
        "colab": {
          "base_uri": "https://localhost:8080/",
          "height": 254
        },
        "outputId": "ac44acf3-2ed8-456c-e323-89b1aed15970"
      },
      "cell_type": "code",
      "source": [
        "from scipy.misc import imread, imresize\n",
        "import matplotlib.pyplot as plt\n",
        "\n",
        "image = imread('cat_tinted.jpg')\n",
        "img_tinted = image * [1, 0.1, 0.56]\n",
        "\n",
        "# Show the original image\n",
        "plt.subplot(1, 2, 1)\n",
        "plt.imshow(image)\n",
        "\n",
        "# Show the tinted image\n",
        "plt.subplot(1, 2, 2)\n",
        "\n",
        "# A slight gotcha with imshow is that it might give strange results\n",
        "# if presented with data that is not uint8. To work around this, we\n",
        "# explicitly cast the image to uint8 before displaying it.\n",
        "plt.imshow(np.uint8(img_tinted))\n",
        "plt.show()"
      ],
      "execution_count": 23,
      "outputs": [
        {
          "output_type": "display_data",
          "data": {
            "image/png": "[encoded data removed]",
            "text/plain": [
              "<matplotlib.figure.Figure at 0x7f1e27ad92e8>"
            ]
          },
          "metadata": {
            "tags": []
          }
        }
      ]
    }
  ]
}